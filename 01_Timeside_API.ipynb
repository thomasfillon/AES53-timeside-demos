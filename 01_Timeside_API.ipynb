{
 "metadata": {
  "name": "",
  "signature": "sha256:ec2b8f452088224bbed397863aed60f091f2444511a602530667b8f48f7a198b"
 },
 "nbformat": 3,
 "nbformat_minor": 0,
 "worksheets": [
  {
   "cells": [
    {
     "cell_type": "code",
     "collapsed": false,
     "input": [
      "%pylab inline\n",
      "import matplotlib.pylab as pylab\n",
      "pylab.rcParams['figure.figsize'] = 16, 8  # that's default image size for this interactive session"
     ],
     "language": "python",
     "metadata": {},
     "outputs": [
      {
       "output_type": "stream",
       "stream": "stdout",
       "text": [
        "Populating the interactive namespace from numpy and matplotlib\n"
       ]
      }
     ],
     "prompt_number": 1
    },
    {
     "cell_type": "heading",
     "level": 1,
     "metadata": {},
     "source": [
      "TimeSide API"
     ]
    },
    {
     "cell_type": "markdown",
     "metadata": {},
     "source": [
      "*Timeside* API is based on different core processing unit called *processors* :\n",
      "\n",
      "- Decoders (*timeside.api.IDecoder*) that enables to decode a giving audio source and split it up into frames for further processing\n",
      "- Analyzers (*timeside.api.IAnalyzer*) that provides some signal processing module to analyze incoming audio frames\n",
      "- Encoders (*timeside.api.IEncoder*) that can encode incoming frames back into an audio object\n",
      "- Graphers (*timeside.api.IGrapher*) that can display some representations of the signal or corresponding extracted features"
     ]
    },
    {
     "cell_type": "heading",
     "level": 2,
     "metadata": {},
     "source": [
      "Decoders"
     ]
    },
    {
     "cell_type": "code",
     "collapsed": true,
     "input": [
      "\n",
      "import timeside.core\n",
      "\n",
      "from timeside.core import list_processors\n",
      "\n",
      "list_processors(timeside.core.api.IDecoder)"
     ],
     "language": "python",
     "metadata": {},
     "outputs": [
      {
       "output_type": "stream",
       "stream": "stdout",
       "text": [
        "IDecoder\n",
        "========\n",
        "  * array_decoder :\n",
        "    \t\tDecoder taking Numpy array as input\n",
        "  * file_decoder :\n",
        "    \t\tFile Decoder based on Gstreamer\n",
        "  * live_decoder :\n",
        "    \t\tLive source Decoder based on Gstreamer\n"
       ]
      }
     ],
     "prompt_number": 2
    },
    {
     "cell_type": "heading",
     "level": 2,
     "metadata": {},
     "source": [
      "Analyzers"
     ]
    },
    {
     "cell_type": "code",
     "collapsed": false,
     "input": [
      "list_processors(timeside.core.api.IAnalyzer)"
     ],
     "language": "python",
     "metadata": {},
     "outputs": [
      {
       "output_type": "stream",
       "stream": "stdout",
       "text": [
        "IAnalyzer\n",
        "=========\n",
        "  IValueAnalyzer\n",
        "  --------------\n",
        "    * mean_dc_shift :\n",
        "      \t\tMean DC shift analyzer\n",
        "    * level :\n",
        "      \t\tAudio level analyzer\n",
        "  * vamp_simple_host :\n",
        "    \t\tVamp plugins library interface analyzer\n",
        "  * aubio_pitch :\n",
        "    \t\tAubio Pitch estimation analyzer\n",
        "  * irit_monopoly :\n",
        "    \t\tSegmentor Monophony/Polyphony based on the analysis of yin confidence.\n",
        "  * irit_startseg :\n",
        "    \t\tSegmentation of recording sessions into 'start' and 'session' segments\n",
        "  * irit_speech_4hz :\n",
        "    \t\tSpeech Segmentor based on the 4Hz energy modulation analysis.\n",
        "  * irit_speech_entropy :\n",
        "    \t\tSpeech Segmentor based on Entropy analysis.\n",
        "  * aubio_melenergy :\n",
        "    \t\tAubio Mel Energy analyzer\n",
        "  * aubio_mfcc :\n",
        "    \t\tAubio MFCC analyzer\n",
        "  * aubio_specdesc :\n",
        "    \t\tAubio Spectral Descriptors collection analyzer\n",
        "  * aubio_temporal :\n",
        "    \t\tAubio Temporal analyzer\n",
        "  * spectrogram_analyzer :\n",
        "    \t\tSpectrogram image builder with an extensible buffer based on tables\n",
        "  * onset_detection_function :\n",
        "    \t\tOnset Detection Function analyzer\n",
        "  * spectrogram_analyzer_buffer :\n",
        "    \t\tSpectrogram image builder with an extensible buffer based on tables\n",
        "  * waveform_analyzer :\n",
        "    \t\tWaveform analyzer\n"
       ]
      }
     ],
     "prompt_number": 3
    },
    {
     "cell_type": "heading",
     "level": 2,
     "metadata": {},
     "source": [
      "Encoders"
     ]
    },
    {
     "cell_type": "code",
     "collapsed": false,
     "input": [
      "list_processors(timeside.core.api.IEncoder)"
     ],
     "language": "python",
     "metadata": {},
     "outputs": [
      {
       "output_type": "stream",
       "stream": "stdout",
       "text": [
        "IEncoder\n",
        "========\n",
        "  * live_encoder :\n",
        "    \t\tGstreamer-based Audio Sink\n",
        "  * flac_encoder :\n",
        "    \t\tFLAC encoder based on Gstreamer\n",
        "  * aac_encoder :\n",
        "    \t\tAAC encoder based on Gstreamer\n",
        "  * mp3_encoder :\n",
        "    \t\tMP3 encoder based on Gstreamer\n",
        "  * vorbis_encoder :\n",
        "    \t\tOGG Vorbis encoder based on Gstreamer\n",
        "  * opus_encoder :\n",
        "    \t\tOpus encoder based on Gstreamer\n",
        "  * wav_encoder :\n",
        "    \t\tWAV encoder based on Gstreamer\n",
        "  * webm_encoder :\n",
        "    \t\tWebM encoder based on Gstreamer\n"
       ]
      }
     ],
     "prompt_number": 4
    },
    {
     "cell_type": "heading",
     "level": 2,
     "metadata": {},
     "source": [
      "Graphers"
     ]
    },
    {
     "cell_type": "code",
     "collapsed": false,
     "input": [
      "list_processors(timeside.core.api.IGrapher)"
     ],
     "language": "python",
     "metadata": {},
     "outputs": [
      {
       "output_type": "stream",
       "stream": "stdout",
       "text": [
        "IGrapher\n",
        "========\n",
        "  * grapher_aubio_pitch :\n",
        "    \t\tImage representing Pitch\n",
        "  * grapher_monopoly_segments :\n",
        "    \t\tImage representing Mono/Poly segmentation\n",
        "  * grapher_irit_startseg :\n",
        "    \t\tImage representing Analogous start point\n",
        "  * grapher_irit_speech_4hz_segments :\n",
        "    \t\tImage representing Speech segmentation\n",
        "  * grapher_irit_speech_4hz_segments_median :\n",
        "    \t\tImage representing Speech segmentation (median)\n",
        "  * grapher_onset_detection_function :\n",
        "    \t\tImage representing Onset detection\n",
        "  * grapher_waveform :\n",
        "    \t\tImage representing Waveform from Analyzer\n",
        "  * spectrogram_log :\n",
        "    \t\tLogarithmic scaled spectrogram (level vs. frequency vs. time).\n",
        "  * spectrogram_lin :\n",
        "    \t\tLinear scaled spectrogram (level vs. frequency vs. time).\n",
        "  * waveform_simple :\n",
        "    \t\tSimple monochrome waveform image.\n",
        "  * waveform_centroid :\n",
        "    \t\tWaveform where peaks are colored relatively to the spectral centroids of each frame buffer.\n",
        "  * waveform_contour_black :\n",
        "    \t\tBlack amplitude contour waveform.\n",
        "  * waveform_contour_white :\n",
        "    \t\tan white amplitude contour wavform.\n",
        "  * waveform_transparent :\n",
        "    \t\tTransparent waveform.\n"
       ]
      }
     ],
     "prompt_number": 5
    },
    {
     "cell_type": "heading",
     "level": 2,
     "metadata": {},
     "source": [
      "Processors pipeline"
     ]
    },
    {
     "cell_type": "markdown",
     "metadata": {},
     "source": [
      "All these processors can be chained to form a process pipeline.\n",
      "\n",
      "Let first define a decoder that reads and decodes audio from a file"
     ]
    },
    {
     "cell_type": "code",
     "collapsed": false,
     "input": [
      "from timeside.core import get_processor\n",
      "\n",
      "from timeside.core.tools.test_samples import samples\n",
      "file_decoder = get_processor('file_decoder')(samples['C4_scale.wav'])"
     ],
     "language": "python",
     "metadata": {},
     "outputs": [],
     "prompt_number": 6
    },
    {
     "cell_type": "markdown",
     "metadata": {},
     "source": [
      "And then some other processors"
     ]
    },
    {
     "cell_type": "code",
     "collapsed": false,
     "input": [
      "# analyzers\n",
      "pitch = get_processor('aubio_pitch')()\n",
      "level = get_processor('level')()\n",
      "\n",
      "# Encoder\n",
      "mp3 = get_processor('mp3_encoder')('/tmp/guitar.mp3', overwrite=True)\n",
      "\n",
      "# Graphers\n",
      "specgram = get_processor('spectrogram_lin')()\n",
      "waveform = get_processor('waveform_simple')()"
     ],
     "language": "python",
     "metadata": {},
     "outputs": [],
     "prompt_number": 7
    },
    {
     "cell_type": "markdown",
     "metadata": {},
     "source": [
      "Let's now define a process pipeline with all these processors and run it"
     ]
    },
    {
     "cell_type": "code",
     "collapsed": false,
     "input": [
      "pipe = (file_decoder | pitch | level | mp3 | specgram | waveform)\n",
      "pipe.run()"
     ],
     "language": "python",
     "metadata": {},
     "outputs": [],
     "prompt_number": 8
    },
    {
     "cell_type": "markdown",
     "metadata": {},
     "source": [
      "Analyzers results are available through the pipe:"
     ]
    },
    {
     "cell_type": "code",
     "collapsed": false,
     "input": [
      "pipe.results.keys()"
     ],
     "language": "python",
     "metadata": {},
     "outputs": [
      {
       "metadata": {},
       "output_type": "pyout",
       "prompt_number": 9,
       "text": [
        "['ebbe1781-96cf-4351-ad03-e919a57ce123',\n",
        " '9f0e11e2-8da9-436c-9d41-fa4e52beac86']"
       ]
      }
     ],
     "prompt_number": 9
    },
    {
     "cell_type": "markdown",
     "metadata": {},
     "source": [
      "or from the analyzer:"
     ]
    },
    {
     "cell_type": "code",
     "collapsed": false,
     "input": [
      "pitch.results.keys()"
     ],
     "language": "python",
     "metadata": {},
     "outputs": [
      {
       "metadata": {},
       "output_type": "pyout",
       "prompt_number": 10,
       "text": [
        "['aubio_pitch.pitch_confidence', 'aubio_pitch.pitch']"
       ]
      }
     ],
     "prompt_number": 10
    },
    {
     "cell_type": "code",
     "collapsed": false,
     "input": [
      "pitch.results['aubio_pitch.pitch'].keys()"
     ],
     "language": "python",
     "metadata": {},
     "outputs": [
      {
       "metadata": {},
       "output_type": "pyout",
       "prompt_number": 11,
       "text": [
        "['id_metadata', 'data_object', 'audio_metadata', 'parameters']"
       ]
      }
     ],
     "prompt_number": 11
    },
    {
     "cell_type": "code",
     "collapsed": false,
     "input": [
      "pitch.results['aubio_pitch.pitch']"
     ],
     "language": "python",
     "metadata": {},
     "outputs": [
      {
       "metadata": {},
       "output_type": "pyout",
       "prompt_number": 12,
       "text": [
        "AnalyzerResult(id_metadata=IdMetadata(id='aubio_pitch.pitch', name='f0 (aubio) pitch', unit='Hz', description='Aubio Pitch estimation analyzer', date='2015-01-26 02:11:21', version='0.7', author='TimeSide', proc_uuid='9f0e11e2-8da9-436c-9d41-fa4e52beac86'), data_object=FrameValueObject(value=array([ 263.19116211,  263.19125366,  263.19125366,  263.19125366,\n",
        "        263.19125366,  263.19116211,  263.19107056,  263.19116211,\n",
        "        263.19125366,  263.19125366,  263.19116211,  263.19125366,\n",
        "        263.19116211,  263.19116211,  263.19116211,  263.19125366,\n",
        "        263.19116211,  263.19116211,  263.19113159,  263.19107056,\n",
        "        263.19116211,  263.19116211,  263.19116211,  263.19116211,\n",
        "        263.19125366,  263.19116211,  263.19116211,  263.19116211,\n",
        "        263.19125366,  263.19125366,  263.19125366,  263.19116211,\n",
        "        263.19113159,  263.19113159,  263.19125366,  263.19125366,\n",
        "        263.19116211,  263.19116211,  263.19116211,  263.19116211,\n",
        "        263.19116211,  263.19116211,  268.1244812 ,    0.        ,\n",
        "          0.        ,    0.        ,    0.        ,    0.        ,\n",
        "          0.        ,    0.        ,  319.865448  ,  296.1496582 ,\n",
        "        295.05581665,  295.05587769,  295.0559082 ,  295.05581665,\n",
        "        295.05596924,  295.05581665,  295.05581665,  295.05587769,\n",
        "        295.05581665,  295.0559082 ,  295.05587769,  295.05581665,\n",
        "        295.05587769,  295.0559082 ,  295.05581665,  295.0559082 ,\n",
        "        295.05581665,  295.05581665,  295.0559082 ,  295.0557251 ,\n",
        "        295.0559082 ,  295.0559082 ,  295.0557251 ,  295.05587769,\n",
        "        295.0559082 ,  295.0557251 ,  295.05587769,  295.05581665,\n",
        "        295.05581665,  295.05587769,  295.0557251 ,  295.05581665,\n",
        "        295.0559082 ,  295.05581665,  295.0559082 ,  295.0559082 ,\n",
        "        295.0557251 ,  295.0559082 ,  295.05581665,  295.05581665,\n",
        "        295.0559082 ,  295.16223145,  306.99707031,    0.        ,\n",
        "          0.        ,    0.        ,    0.        ,    0.        ,\n",
        "          0.        ,    0.        ,  338.14138794,  330.84783936,\n",
        "        330.7225647 ,  330.72265625,  330.72265625,  330.7225647 ,\n",
        "        330.72265625,  330.72265625,  330.72253418,  330.72265625,\n",
        "        330.72265625,  330.7225647 ,  330.7225647 ,  330.72268677,\n",
        "        330.7225647 ,  330.7225647 ,  330.72265625,  330.72265625,\n",
        "        330.7225647 ,  330.72265625,  330.72265625,  330.72250366,\n",
        "        330.72262573,  330.72268677,  330.7225647 ,  330.7225647 ,\n",
        "        330.72265625,  330.7225647 ,  330.7225647 ,  330.72268677,\n",
        "        330.7225647 ,  330.72253418,  330.72265625,  330.72262573,\n",
        "        330.7225647 ,  330.7225647 ,  330.72268677,  330.7225647 ,\n",
        "        330.7225647 ,  330.72265625,  330.7225647 ,  330.7225647 ,\n",
        "        330.72268677,  331.81561279,  355.28924561,    0.        ,\n",
        "          0.        ,    0.        ,    0.        ,    0.        ,\n",
        "          0.        ,    0.        ,  353.3170166 ,  350.25753784,\n",
        "        350.25756836,  350.25750732,  350.25756836,  350.25759888,\n",
        "        350.25756836,  350.25750732,  350.25753784,  350.25756836,\n",
        "        350.25756836,  350.25756836,  350.25750732,  350.25756836,\n",
        "        350.25756836,  350.25756836,  350.25750732,  350.25750732,\n",
        "        350.25756836,  350.25756836,  350.25756836,  350.25750732,\n",
        "        350.25750732,  350.25756836,  350.25756836,  350.25750732,\n",
        "        350.25747681,  350.25756836,  350.25756836,  350.25756836,\n",
        "        350.25750732,  350.25750732,  350.25756836,  350.25759888,\n",
        "        350.25756836,  350.25750732,  350.25750732,  350.25759888,\n",
        "        350.25756836,  350.25750732,  350.25750732,  350.25756836,\n",
        "        350.25756836,  355.1859436 ,    0.        ,    0.        ,\n",
        "          0.        ,    0.        ,    0.        ,    0.        ,\n",
        "          0.        ,  414.7015686 ,  393.92385864,  392.91253662,\n",
        "        392.91253662,  392.91253662,  392.91253662,  392.91253662,\n",
        "        392.91259766,  392.91265869,  392.91253662,  392.91256714,\n",
        "        392.91256714,  392.91259766,  392.91259766,  392.91256714,\n",
        "        392.91253662,  392.91256714,  392.91259766,  392.91259766,\n",
        "        392.91256714,  392.91256714,  392.91256714,  392.91259766,\n",
        "        392.91253662,  392.91253662,  392.91253662,  392.91253662,\n",
        "        392.91259766,  392.91253662,  392.91253662,  392.9125061 ,\n",
        "        392.91253662,  392.91265869,  392.91259766,  392.91256714,\n",
        "        392.91256714,  392.91253662,  392.91259766,  392.91253662,\n",
        "        392.91256714,  392.91253662,  392.91259766,  392.91259766,\n",
        "        392.92947388,  397.31698608,    0.        ,    0.        ,\n",
        "          0.        ,    0.        ,    0.        ,    0.        ,\n",
        "          0.        ,  447.19833374,  440.90103149,  440.76080322,\n",
        "        440.76074219,  440.76080322,  440.76074219,  440.76080322,\n",
        "        440.76080322,  440.76080322,  440.76080322,  440.76074219,\n",
        "        440.76080322,  440.76074219,  440.76080322,  440.76074219,\n",
        "        440.76080322,  440.76080322,  440.76080322,  440.76080322,\n",
        "        440.76080322,  440.76080322,  440.76074219,  440.76080322,\n",
        "        440.76074219,  440.76080322,  440.76080322,  440.76074219,\n",
        "        440.76080322,  440.76074219,  440.76080322,  440.76080322,\n",
        "        440.76080322,  440.76074219,  440.76074219,  440.76080322,\n",
        "        440.76080322,  440.76080322,  440.76080322,  440.76074219,\n",
        "        440.76080322,  440.76074219,  440.76080322,  440.76080322,\n",
        "        441.13644409,  450.26348877,    0.        ,    0.        ,\n",
        "          0.        ,    0.        ,    0.        ,    0.        ,\n",
        "          0.        ,  497.2588501 ,  494.56234741,  494.56210327,\n",
        "        494.56210327,  494.56210327,  494.56207275,  494.56210327,\n",
        "        494.56207275,  494.56210327,  494.56210327,  494.56210327,\n",
        "        494.56210327,  494.56207275,  494.56210327,  494.56210327,\n",
        "        494.56213379,  494.56210327,  494.56210327,  494.56210327,\n",
        "        494.56207275,  494.56207275,  494.56210327,  494.56210327,\n",
        "        494.56213379,  494.56210327,  494.56210327,  494.56210327,\n",
        "        494.56210327,  494.56210327,  494.56210327,  494.56207275,\n",
        "        494.56207275,  494.56210327,  494.56210327,  494.56210327,\n",
        "        494.56210327,  494.56210327,  494.56207275,  494.56207275,\n",
        "        494.56210327,  494.56210327,  494.56210327,  494.56210327,\n",
        "        497.16900635,  561.82440186,    0.        ,    0.        ,\n",
        "          0.        ,    0.        ,    0.        ,    0.        ,\n",
        "        544.37915039,  524.85021973,  523.86566162,  523.86566162,\n",
        "        523.86566162,  523.86566162,  523.86566162,  523.86566162,\n",
        "        523.86560059,  523.86566162,  523.86566162,  523.86572266,\n",
        "        523.86560059,  523.86566162,  523.86566162,  523.86572266,\n",
        "        523.86566162,  523.86572266,  523.86560059,  523.86566162,\n",
        "        523.86566162,  523.86566162,  523.86566162,  523.86572266,\n",
        "        523.86572266,  523.86572266,  523.86566162,  523.86566162,\n",
        "        523.86560059,  523.86566162,  523.86566162,  523.86572266,\n",
        "        523.86560059,  523.86572266,  523.86566162,  523.86566162,\n",
        "        523.86566162,  523.86566162,  523.86560059,  523.86572266,\n",
        "        523.86572266,  523.86566162,  523.86560059,  523.89001465], dtype=float32), y_value=array([], dtype=float64), frame_metadata=FrameMetadata(samplerate=44100, blocksize=2048, stepsize=1024)), audio_metadata=AudioMetadata(uri='file:///tmp/tmpIl8oYhts_samples/C4_scale.wav', start=0.0, duration=9.4, is_segment=False, sha1='a598e78d0b5c90da54a77e34c083abdcd38d42ba', channels=1, channelsManagement=''), parameters={})"
       ]
      }
     ],
     "prompt_number": 12
    },
    {
     "cell_type": "markdown",
     "metadata": {},
     "source": [
      "Grapher result can also be display or save into a file"
     ]
    },
    {
     "cell_type": "code",
     "collapsed": false,
     "input": [
      "imshow(specgram.render(), origin='lower')"
     ],
     "language": "python",
     "metadata": {},
     "outputs": [
      {
       "metadata": {},
       "output_type": "pyout",
       "prompt_number": 13,
       "text": [
        "<matplotlib.image.AxesImage at 0x5036310>"
       ]
      },
      {
       "metadata": {},
       "output_type": "display_data",
       "png": "[encoded data removed]",
       "text": [
        "<matplotlib.figure.Figure at 0x24fdb90>"
       ]
      }
     ],
     "prompt_number": 13
    },
    {
     "cell_type": "code",
     "collapsed": false,
     "input": [
      "imshow(waveform.render(), origin='lower')"
     ],
     "language": "python",
     "metadata": {},
     "outputs": [
      {
       "metadata": {},
       "output_type": "pyout",
       "prompt_number": 14,
       "text": [
        "<matplotlib.image.AxesImage at 0x55f4f10>"
       ]
      },
      {
       "metadata": {},
       "output_type": "display_data",
       "png": "[encoded data removed]",
       "text": [
        "<matplotlib.figure.Figure at 0x24fdc10>"
       ]
      }
     ],
     "prompt_number": 14
    },
    {
     "cell_type": "code",
     "collapsed": false,
     "input": [
      "waveform.render('/tmp/waveform.png')"
     ],
     "language": "python",
     "metadata": {},
     "outputs": [],
     "prompt_number": 15
    },
    {
     "cell_type": "heading",
     "level": 2,
     "metadata": {},
     "source": [
      "And TimeSide can be embedded into a web page dynamically. For example, in Telemeta:"
     ]
    },
    {
     "cell_type": "code",
     "collapsed": false,
     "input": [
      "from IPython.display import HTML\n",
      "HTML('<iframe width=1300 height=260 frameborder=0 scrolling=no marginheight=0 marginwidth=0 src=http://demo.telemeta.org/archives/items/6/player/1200x170></iframe>')"
     ],
     "language": "python",
     "metadata": {},
     "outputs": [
      {
       "html": [
        "<iframe width=1300 height=260 frameborder=0 scrolling=no marginheight=0 marginwidth=0 src=http://demo.telemeta.org/archives/items/6/player/1200x170></iframe>"
       ],
       "metadata": {},
       "output_type": "pyout",
       "prompt_number": 16,
       "text": [
        "<IPython.core.display.HTML at 0x5a5ffd0>"
       ]
      }
     ],
     "prompt_number": 16
    },
    {
     "cell_type": "code",
     "collapsed": false,
     "input": [],
     "language": "python",
     "metadata": {},
     "outputs": [],
     "prompt_number": 16
    }
   ],
   "metadata": {}
  }
 ]
}